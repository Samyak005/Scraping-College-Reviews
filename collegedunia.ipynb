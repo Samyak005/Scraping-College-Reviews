{
 "metadata": {
  "language_info": {
   "codemirror_mode": {
    "name": "ipython",
    "version": 3
   },
   "file_extension": ".py",
   "mimetype": "text/x-python",
   "name": "python",
   "nbconvert_exporter": "python",
   "pygments_lexer": "ipython3",
   "version": "3.8.3-final"
  },
  "orig_nbformat": 2,
  "kernelspec": {
   "name": "python3",
   "display_name": "Python 3"
  }
 },
 "nbformat": 4,
 "nbformat_minor": 2,
 "cells": [
  {
   "cell_type": "code",
   "execution_count": 2,
   "metadata": {},
   "outputs": [],
   "source": [
    "import requests\n",
    "from bs4 import BeautifulSoup\n",
    "import pandas as pd\n",
    "\n",
    "prefix = \"https://collegedunia.com/reviews\""
   ]
  },
  {
   "cell_type": "code",
   "execution_count": 3,
   "metadata": {
    "tags": []
   },
   "outputs": [],
   "source": [
    "webpage_response = requests.get('https://collegedunia.com/reviews?stream=10,13,18&slug_id=18,120&batch=2020&sort=1')\n",
    "\n",
    "webpage = webpage_response.content\n",
    "soup = BeautifulSoup(webpage, \"html.parser\")"
   ]
  },
  {
   "cell_type": "code",
   "execution_count": 9,
   "metadata": {},
   "outputs": [
    {
     "output_type": "stream",
     "name": "stdout",
     "text": [
      "{'https://collegedunia.com/reviews/24206-rishabh-surana-review-on-all-india-institute-of-medical-sciences-aiims-new-delhi', 'https://collegedunia.com/reviews/25777-shubham-kumar-review-on-indian-institute-of-technology-iit-roorkee', 'https://collegedunia.com/reviews/61243-rohan-kumar-sharma-review-on-armed-forces-medical-college-afmc-pune', 'https://collegedunia.com/reviews/93514-akash-makani-review-on-uka-tarsadia-university-bardoli', 'https://collegedunia.com/reviews/25319-garv-sethi-review-on-mit-world-peace-university-mitwpu-pune', 'https://collegedunia.com/reviews/30402-velgapuri-santosh-rao-review-on-cmr-college-of-engineering-and-technology-cmrcet-hyderabad', 'https://collegedunia.com/reviews/11103-pothurajula-sai-review-on-apollo-physiotherapy-college-hyderabad', 'https://collegedunia.com/reviews/50293-rahul-ambadas-shinde-review-on-fergusson-college-pune', 'https://collegedunia.com/reviews/29819-vlokesh-kumar-reddy-review-on-gitam-hyderabad', 'https://collegedunia.com/reviews/26265-prakhar-kumar-singh-review-on-iit-bombay-indian-institute-of-technology-mumbai', 'https://collegedunia.com/reviews/46476-c-nikitha-review-on-sir-jj-college-of-architecture-sjjca-mumbai', 'https://collegedunia.com/reviews/82835-dhanajit-kapali-review-on-dronacharya-group-of-institutions-dgi-greater-noida', 'https://collegedunia.com/reviews/26723-arhan-sarkar-review-on-national-institute-of-design-nid-ahmedabad', 'https://collegedunia.com/reviews/36988-sudhir-ashok-gaikwad-review-on-college-of-agriculture-pune', 'https://collegedunia.com/reviews/27960-sagar-wani-review-on-ramaiah-institute-of-technology-rit-bangalore', 'https://collegedunia.com/reviews/63026-prasad-umarji-review-on-sir-jj-college-of-architecture-sjjca-mumbai', 'https://collegedunia.com/reviews/27828-jay-gadekar-review-on-sir-jj-college-of-architecture-sjjca-mumbai', 'https://collegedunia.com/reviews/36078-anubhav-dwivedi-review-on-national-law-school-of-india-university-nlsiu-bangalore', 'https://collegedunia.com/reviews/60444-kundan-nayak-review-on-mnnit-allahabad-motilal-nehru-national-institute-of-technology-mnnit-allahabad', 'https://collegedunia.com/reviews/76609-prateek-likhar-review-on-indian-institute-of-information-technology-iiit-bhopal', 'https://collegedunia.com/reviews/9811-ajay-kumar-review-on-armed-forces-medical-college-afmc-pune', 'https://collegedunia.com/reviews/15494-rakesh-kumar-singh-review-on-feroze-gandhi-institute-of-engineering-and-technology-fgiet-rae-bareli', 'https://collegedunia.com/reviews/35333-vdnmounica-review-on-marri-laxman-reddy-institute-of-technology-and-management-mlritm-hyderabad', 'https://collegedunia.com/reviews/22581-suryakant-gupta-review-on-ramrao-adik-institute-of-technology-rait-navi-mumbai', 'https://collegedunia.com/reviews/45392-kunal-agarwal-review-on-vallurupalli-nageswara-rao-vignana-jyothi-institute-of-engineering-and-technology-vnrvjiet-hyderabad', 'https://collegedunia.com/reviews/24744-anshika-jain-review-on-netaji-subhas-university-of-technology-nsut-new-delhi', 'https://collegedunia.com/reviews/21902-toko-tadh-review-on-indian-institute-of-technology-madras-iitm-chennai', 'https://collegedunia.com/reviews/page-2?stream=10,13,18&slug_id=18,120&batch=2020&sort=1', 'https://collegedunia.com/reviews/28308-shubhrat-srivastava-review-on-pandit-deendayal-petroleum-university-pdpu-gandhi-nagar', 'https://collegedunia.com/reviews/45728-sunny-saurabh-review-on-c-v-raman-global-university-bhubaneswar', 'https://collegedunia.com/reviews/45517-pinintla-srichakradhar-reddy-review-on-raghu-institute-of-technology-rit-visakhapatnam', 'https://collegedunia.com/reviews/26486-sai-sreesh-review-on-srm-institute-of-technology-srm-ist-kanchipuram', 'https://collegedunia.com/reviews/34530-alavala-ram-sai-reddy-review-on-bv-raju-institute-of-technology-bvrit-hyderabad', 'https://collegedunia.com/reviews/61604-paras-virmani-review-on-chandigarh-group-of-colleges-cgc-jhanjeri-mohali', 'https://collegedunia.com/reviews/7829-sugunapriya-review-on-iikm-business-school-chennai', 'https://collegedunia.com/reviews/26918-arshad-imam-review-on-konark-institute-of-science-and-technology-kist-bhubaneswar', 'https://collegedunia.com/reviews/21776-arun-k-lenin-review-on-indian-institute-of-technology-madras-iitm-chennai', 'https://collegedunia.com/reviews/41206-saikat-bhattacharjee-review-on-armed-forces-medical-college-afmc-pune', 'https://collegedunia.com/reviews/25940-kumar-anugrah-review-on-indian-institute-of-technology-iit-kharagpur', 'https://collegedunia.com/reviews/25674-n-mukesh-review-on-indian-institute-of-technology-iit-kharagpur'}\n"
     ]
    }
   ],
   "source": [
    "prefix = \"https://collegedunia.com/reviews/\"\n",
    "\n",
    "review_links = soup.find_all(\"a\")\n",
    "links = []\n",
    "#go through all of the a tags and get the links associated with them:\n",
    "for a in review_links:\n",
    "  s = a[\"href\"]\n",
    "  if prefix in s:\n",
    "    links.append(s)\n",
    "\n",
    "uniquelinks = set(links)\n",
    "print(uniquelinks)"
   ]
  },
  {
   "cell_type": "code",
   "execution_count": 36,
   "metadata": {},
   "outputs": [
    {
     "output_type": "stream",
     "name": "stdout",
     "text": [
      "https://collegedunia.com/reviews/24206-rishabh-surana-review-on-all-india-institute-of-medical-sciences-aiims-new-delhi\nhttps://collegedunia.com/reviews/25777-shubham-kumar-review-on-indian-institute-of-technology-iit-roorkee\nhttps://collegedunia.com/reviews/61243-rohan-kumar-sharma-review-on-armed-forces-medical-college-afmc-pune\nhttps://collegedunia.com/reviews/93514-akash-makani-review-on-uka-tarsadia-university-bardoli\nhttps://collegedunia.com/reviews/25319-garv-sethi-review-on-mit-world-peace-university-mitwpu-pune\nhttps://collegedunia.com/reviews/30402-velgapuri-santosh-rao-review-on-cmr-college-of-engineering-and-technology-cmrcet-hyderabad\nhttps://collegedunia.com/reviews/11103-pothurajula-sai-review-on-apollo-physiotherapy-college-hyderabad\nhttps://collegedunia.com/reviews/50293-rahul-ambadas-shinde-review-on-fergusson-college-pune\nhttps://collegedunia.com/reviews/29819-vlokesh-kumar-reddy-review-on-gitam-hyderabad\nhttps://collegedunia.com/reviews/26265-prakhar-kumar-singh-review-on-iit-bombay-indian-institute-of-technology-mumbai\nhttps://collegedunia.com/reviews/46476-c-nikitha-review-on-sir-jj-college-of-architecture-sjjca-mumbai\nhttps://collegedunia.com/reviews/82835-dhanajit-kapali-review-on-dronacharya-group-of-institutions-dgi-greater-noida\nhttps://collegedunia.com/reviews/26723-arhan-sarkar-review-on-national-institute-of-design-nid-ahmedabad\nhttps://collegedunia.com/reviews/36988-sudhir-ashok-gaikwad-review-on-college-of-agriculture-pune\nhttps://collegedunia.com/reviews/27960-sagar-wani-review-on-ramaiah-institute-of-technology-rit-bangalore\nhttps://collegedunia.com/reviews/63026-prasad-umarji-review-on-sir-jj-college-of-architecture-sjjca-mumbai\nhttps://collegedunia.com/reviews/27828-jay-gadekar-review-on-sir-jj-college-of-architecture-sjjca-mumbai\nhttps://collegedunia.com/reviews/36078-anubhav-dwivedi-review-on-national-law-school-of-india-university-nlsiu-bangalore\nhttps://collegedunia.com/reviews/60444-kundan-nayak-review-on-mnnit-allahabad-motilal-nehru-national-institute-of-technology-mnnit-allahabad\nhttps://collegedunia.com/reviews/76609-prateek-likhar-review-on-indian-institute-of-information-technology-iiit-bhopal\nhttps://collegedunia.com/reviews/9811-ajay-kumar-review-on-armed-forces-medical-college-afmc-pune\nhttps://collegedunia.com/reviews/15494-rakesh-kumar-singh-review-on-feroze-gandhi-institute-of-engineering-and-technology-fgiet-rae-bareli\nhttps://collegedunia.com/reviews/35333-vdnmounica-review-on-marri-laxman-reddy-institute-of-technology-and-management-mlritm-hyderabad\nhttps://collegedunia.com/reviews/22581-suryakant-gupta-review-on-ramrao-adik-institute-of-technology-rait-navi-mumbai\nhttps://collegedunia.com/reviews/45392-kunal-agarwal-review-on-vallurupalli-nageswara-rao-vignana-jyothi-institute-of-engineering-and-technology-vnrvjiet-hyderabad\nhttps://collegedunia.com/reviews/24744-anshika-jain-review-on-netaji-subhas-university-of-technology-nsut-new-delhi\nhttps://collegedunia.com/reviews/21902-toko-tadh-review-on-indian-institute-of-technology-madras-iitm-chennai\nhttps://collegedunia.com/reviews/page-2?stream=10,13,18&slug_id=18,120&batch=2020&sort=1\nhttps://collegedunia.com/reviews/28308-shubhrat-srivastava-review-on-pandit-deendayal-petroleum-university-pdpu-gandhi-nagar\nhttps://collegedunia.com/reviews/45728-sunny-saurabh-review-on-c-v-raman-global-university-bhubaneswar\nhttps://collegedunia.com/reviews/45517-pinintla-srichakradhar-reddy-review-on-raghu-institute-of-technology-rit-visakhapatnam\nhttps://collegedunia.com/reviews/26486-sai-sreesh-review-on-srm-institute-of-technology-srm-ist-kanchipuram\nhttps://collegedunia.com/reviews/34530-alavala-ram-sai-reddy-review-on-bv-raju-institute-of-technology-bvrit-hyderabad\nhttps://collegedunia.com/reviews/61604-paras-virmani-review-on-chandigarh-group-of-colleges-cgc-jhanjeri-mohali\nhttps://collegedunia.com/reviews/7829-sugunapriya-review-on-iikm-business-school-chennai\nhttps://collegedunia.com/reviews/26918-arshad-imam-review-on-konark-institute-of-science-and-technology-kist-bhubaneswar\nhttps://collegedunia.com/reviews/21776-arun-k-lenin-review-on-indian-institute-of-technology-madras-iitm-chennai\nhttps://collegedunia.com/reviews/41206-saikat-bhattacharjee-review-on-armed-forces-medical-college-afmc-pune\nhttps://collegedunia.com/reviews/25940-kumar-anugrah-review-on-indian-institute-of-technology-iit-kharagpur\nhttps://collegedunia.com/reviews/25674-n-mukesh-review-on-indian-institute-of-technology-iit-kharagpur\n40\n"
     ]
    }
   ],
   "source": [
    "for val in uniquelinks: \n",
    "    print(val) \n",
    "print(len(uniquelinks))"
   ]
  },
  {
   "cell_type": "code",
   "execution_count": 45,
   "metadata": {},
   "outputs": [
    {
     "output_type": "error",
     "ename": "KeyboardInterrupt",
     "evalue": "",
     "traceback": [
      "\u001b[1;31m---------------------------------------------------------------------------\u001b[0m",
      "\u001b[1;31mKeyboardInterrupt\u001b[0m                         Traceback (most recent call last)",
      "\u001b[1;32m<ipython-input-45-4fdceb65bc7b>\u001b[0m in \u001b[0;36m<module>\u001b[1;34m\u001b[0m\n\u001b[0;32m      6\u001b[0m \u001b[1;32mwith\u001b[0m \u001b[0mopen\u001b[0m\u001b[1;33m(\u001b[0m\u001b[1;34m'all_review_links.txt'\u001b[0m\u001b[1;33m,\u001b[0m\u001b[1;34m\"w\"\u001b[0m\u001b[1;33m)\u001b[0m \u001b[1;32mas\u001b[0m \u001b[0mtp\u001b[0m\u001b[1;33m:\u001b[0m\u001b[1;33m\u001b[0m\u001b[1;33m\u001b[0m\u001b[0m\n\u001b[0;32m      7\u001b[0m     \u001b[1;32mwhile\u001b[0m\u001b[1;33m(\u001b[0m\u001b[0mi\u001b[0m\u001b[1;33m<\u001b[0m\u001b[1;36m9863\u001b[0m\u001b[1;33m)\u001b[0m\u001b[1;33m:\u001b[0m\u001b[1;33m\u001b[0m\u001b[1;33m\u001b[0m\u001b[0m\n\u001b[1;32m----> 8\u001b[1;33m         \u001b[0mwebpage_response\u001b[0m \u001b[1;33m=\u001b[0m \u001b[0mrequests\u001b[0m\u001b[1;33m.\u001b[0m\u001b[0mget\u001b[0m\u001b[1;33m(\u001b[0m\u001b[1;34m'https://collegedunia.com/reviews/page-'\u001b[0m\u001b[1;33m+\u001b[0m\u001b[0mstr\u001b[0m\u001b[1;33m(\u001b[0m\u001b[0mi\u001b[0m\u001b[1;33m)\u001b[0m\u001b[1;33m)\u001b[0m\u001b[1;33m\u001b[0m\u001b[1;33m\u001b[0m\u001b[0m\n\u001b[0m\u001b[0;32m      9\u001b[0m         \u001b[0mwebpage\u001b[0m \u001b[1;33m=\u001b[0m \u001b[0mwebpage_response\u001b[0m\u001b[1;33m.\u001b[0m\u001b[0mcontent\u001b[0m\u001b[1;33m\u001b[0m\u001b[1;33m\u001b[0m\u001b[0m\n\u001b[0;32m     10\u001b[0m         \u001b[0msoup\u001b[0m \u001b[1;33m=\u001b[0m \u001b[0mBeautifulSoup\u001b[0m\u001b[1;33m(\u001b[0m\u001b[0mwebpage\u001b[0m\u001b[1;33m,\u001b[0m \u001b[1;34m\"html.parser\"\u001b[0m\u001b[1;33m)\u001b[0m\u001b[1;33m\u001b[0m\u001b[1;33m\u001b[0m\u001b[0m\n",
      "\u001b[1;32mC:\\Python38\\lib\\site-packages\\requests\\api.py\u001b[0m in \u001b[0;36mget\u001b[1;34m(url, params, **kwargs)\u001b[0m\n\u001b[0;32m     74\u001b[0m \u001b[1;33m\u001b[0m\u001b[0m\n\u001b[0;32m     75\u001b[0m     \u001b[0mkwargs\u001b[0m\u001b[1;33m.\u001b[0m\u001b[0msetdefault\u001b[0m\u001b[1;33m(\u001b[0m\u001b[1;34m'allow_redirects'\u001b[0m\u001b[1;33m,\u001b[0m \u001b[1;32mTrue\u001b[0m\u001b[1;33m)\u001b[0m\u001b[1;33m\u001b[0m\u001b[1;33m\u001b[0m\u001b[0m\n\u001b[1;32m---> 76\u001b[1;33m     \u001b[1;32mreturn\u001b[0m \u001b[0mrequest\u001b[0m\u001b[1;33m(\u001b[0m\u001b[1;34m'get'\u001b[0m\u001b[1;33m,\u001b[0m \u001b[0murl\u001b[0m\u001b[1;33m,\u001b[0m \u001b[0mparams\u001b[0m\u001b[1;33m=\u001b[0m\u001b[0mparams\u001b[0m\u001b[1;33m,\u001b[0m \u001b[1;33m**\u001b[0m\u001b[0mkwargs\u001b[0m\u001b[1;33m)\u001b[0m\u001b[1;33m\u001b[0m\u001b[1;33m\u001b[0m\u001b[0m\n\u001b[0m\u001b[0;32m     77\u001b[0m \u001b[1;33m\u001b[0m\u001b[0m\n\u001b[0;32m     78\u001b[0m \u001b[1;33m\u001b[0m\u001b[0m\n",
      "\u001b[1;32mC:\\Python38\\lib\\site-packages\\requests\\api.py\u001b[0m in \u001b[0;36mrequest\u001b[1;34m(method, url, **kwargs)\u001b[0m\n\u001b[0;32m     59\u001b[0m     \u001b[1;31m# cases, and look like a memory leak in others.\u001b[0m\u001b[1;33m\u001b[0m\u001b[1;33m\u001b[0m\u001b[1;33m\u001b[0m\u001b[0m\n\u001b[0;32m     60\u001b[0m     \u001b[1;32mwith\u001b[0m \u001b[0msessions\u001b[0m\u001b[1;33m.\u001b[0m\u001b[0mSession\u001b[0m\u001b[1;33m(\u001b[0m\u001b[1;33m)\u001b[0m \u001b[1;32mas\u001b[0m \u001b[0msession\u001b[0m\u001b[1;33m:\u001b[0m\u001b[1;33m\u001b[0m\u001b[1;33m\u001b[0m\u001b[0m\n\u001b[1;32m---> 61\u001b[1;33m         \u001b[1;32mreturn\u001b[0m \u001b[0msession\u001b[0m\u001b[1;33m.\u001b[0m\u001b[0mrequest\u001b[0m\u001b[1;33m(\u001b[0m\u001b[0mmethod\u001b[0m\u001b[1;33m=\u001b[0m\u001b[0mmethod\u001b[0m\u001b[1;33m,\u001b[0m \u001b[0murl\u001b[0m\u001b[1;33m=\u001b[0m\u001b[0murl\u001b[0m\u001b[1;33m,\u001b[0m \u001b[1;33m**\u001b[0m\u001b[0mkwargs\u001b[0m\u001b[1;33m)\u001b[0m\u001b[1;33m\u001b[0m\u001b[1;33m\u001b[0m\u001b[0m\n\u001b[0m\u001b[0;32m     62\u001b[0m \u001b[1;33m\u001b[0m\u001b[0m\n\u001b[0;32m     63\u001b[0m \u001b[1;33m\u001b[0m\u001b[0m\n",
      "\u001b[1;32mC:\\Python38\\lib\\site-packages\\requests\\sessions.py\u001b[0m in \u001b[0;36mrequest\u001b[1;34m(self, method, url, params, data, headers, cookies, files, auth, timeout, allow_redirects, proxies, hooks, stream, verify, cert, json)\u001b[0m\n\u001b[0;32m    528\u001b[0m         }\n\u001b[0;32m    529\u001b[0m         \u001b[0msend_kwargs\u001b[0m\u001b[1;33m.\u001b[0m\u001b[0mupdate\u001b[0m\u001b[1;33m(\u001b[0m\u001b[0msettings\u001b[0m\u001b[1;33m)\u001b[0m\u001b[1;33m\u001b[0m\u001b[1;33m\u001b[0m\u001b[0m\n\u001b[1;32m--> 530\u001b[1;33m         \u001b[0mresp\u001b[0m \u001b[1;33m=\u001b[0m \u001b[0mself\u001b[0m\u001b[1;33m.\u001b[0m\u001b[0msend\u001b[0m\u001b[1;33m(\u001b[0m\u001b[0mprep\u001b[0m\u001b[1;33m,\u001b[0m \u001b[1;33m**\u001b[0m\u001b[0msend_kwargs\u001b[0m\u001b[1;33m)\u001b[0m\u001b[1;33m\u001b[0m\u001b[1;33m\u001b[0m\u001b[0m\n\u001b[0m\u001b[0;32m    531\u001b[0m \u001b[1;33m\u001b[0m\u001b[0m\n\u001b[0;32m    532\u001b[0m         \u001b[1;32mreturn\u001b[0m \u001b[0mresp\u001b[0m\u001b[1;33m\u001b[0m\u001b[1;33m\u001b[0m\u001b[0m\n",
      "\u001b[1;32mC:\\Python38\\lib\\site-packages\\requests\\sessions.py\u001b[0m in \u001b[0;36msend\u001b[1;34m(self, request, **kwargs)\u001b[0m\n\u001b[0;32m    641\u001b[0m \u001b[1;33m\u001b[0m\u001b[0m\n\u001b[0;32m    642\u001b[0m         \u001b[1;31m# Send the request\u001b[0m\u001b[1;33m\u001b[0m\u001b[1;33m\u001b[0m\u001b[1;33m\u001b[0m\u001b[0m\n\u001b[1;32m--> 643\u001b[1;33m         \u001b[0mr\u001b[0m \u001b[1;33m=\u001b[0m \u001b[0madapter\u001b[0m\u001b[1;33m.\u001b[0m\u001b[0msend\u001b[0m\u001b[1;33m(\u001b[0m\u001b[0mrequest\u001b[0m\u001b[1;33m,\u001b[0m \u001b[1;33m**\u001b[0m\u001b[0mkwargs\u001b[0m\u001b[1;33m)\u001b[0m\u001b[1;33m\u001b[0m\u001b[1;33m\u001b[0m\u001b[0m\n\u001b[0m\u001b[0;32m    644\u001b[0m \u001b[1;33m\u001b[0m\u001b[0m\n\u001b[0;32m    645\u001b[0m         \u001b[1;31m# Total elapsed time of the request (approximately)\u001b[0m\u001b[1;33m\u001b[0m\u001b[1;33m\u001b[0m\u001b[1;33m\u001b[0m\u001b[0m\n",
      "\u001b[1;32mC:\\Python38\\lib\\site-packages\\requests\\adapters.py\u001b[0m in \u001b[0;36msend\u001b[1;34m(self, request, stream, timeout, verify, cert, proxies)\u001b[0m\n\u001b[0;32m    437\u001b[0m         \u001b[1;32mtry\u001b[0m\u001b[1;33m:\u001b[0m\u001b[1;33m\u001b[0m\u001b[1;33m\u001b[0m\u001b[0m\n\u001b[0;32m    438\u001b[0m             \u001b[1;32mif\u001b[0m \u001b[1;32mnot\u001b[0m \u001b[0mchunked\u001b[0m\u001b[1;33m:\u001b[0m\u001b[1;33m\u001b[0m\u001b[1;33m\u001b[0m\u001b[0m\n\u001b[1;32m--> 439\u001b[1;33m                 resp = conn.urlopen(\n\u001b[0m\u001b[0;32m    440\u001b[0m                     \u001b[0mmethod\u001b[0m\u001b[1;33m=\u001b[0m\u001b[0mrequest\u001b[0m\u001b[1;33m.\u001b[0m\u001b[0mmethod\u001b[0m\u001b[1;33m,\u001b[0m\u001b[1;33m\u001b[0m\u001b[1;33m\u001b[0m\u001b[0m\n\u001b[0;32m    441\u001b[0m                     \u001b[0murl\u001b[0m\u001b[1;33m=\u001b[0m\u001b[0murl\u001b[0m\u001b[1;33m,\u001b[0m\u001b[1;33m\u001b[0m\u001b[1;33m\u001b[0m\u001b[0m\n",
      "\u001b[1;32mC:\\Python38\\lib\\site-packages\\urllib3\\connectionpool.py\u001b[0m in \u001b[0;36murlopen\u001b[1;34m(self, method, url, body, headers, retries, redirect, assert_same_host, timeout, pool_timeout, release_conn, chunked, body_pos, **response_kw)\u001b[0m\n\u001b[0;32m    668\u001b[0m \u001b[1;33m\u001b[0m\u001b[0m\n\u001b[0;32m    669\u001b[0m             \u001b[1;31m# Make the request on the httplib connection object.\u001b[0m\u001b[1;33m\u001b[0m\u001b[1;33m\u001b[0m\u001b[1;33m\u001b[0m\u001b[0m\n\u001b[1;32m--> 670\u001b[1;33m             httplib_response = self._make_request(\n\u001b[0m\u001b[0;32m    671\u001b[0m                 \u001b[0mconn\u001b[0m\u001b[1;33m,\u001b[0m\u001b[1;33m\u001b[0m\u001b[1;33m\u001b[0m\u001b[0m\n\u001b[0;32m    672\u001b[0m                 \u001b[0mmethod\u001b[0m\u001b[1;33m,\u001b[0m\u001b[1;33m\u001b[0m\u001b[1;33m\u001b[0m\u001b[0m\n",
      "\u001b[1;32mC:\\Python38\\lib\\site-packages\\urllib3\\connectionpool.py\u001b[0m in \u001b[0;36m_make_request\u001b[1;34m(self, conn, method, url, timeout, chunked, **httplib_request_kw)\u001b[0m\n\u001b[0;32m    424\u001b[0m                     \u001b[1;31m# Python 3 (including for exceptions like SystemExit).\u001b[0m\u001b[1;33m\u001b[0m\u001b[1;33m\u001b[0m\u001b[1;33m\u001b[0m\u001b[0m\n\u001b[0;32m    425\u001b[0m                     \u001b[1;31m# Otherwise it looks like a bug in the code.\u001b[0m\u001b[1;33m\u001b[0m\u001b[1;33m\u001b[0m\u001b[1;33m\u001b[0m\u001b[0m\n\u001b[1;32m--> 426\u001b[1;33m                     \u001b[0msix\u001b[0m\u001b[1;33m.\u001b[0m\u001b[0mraise_from\u001b[0m\u001b[1;33m(\u001b[0m\u001b[0me\u001b[0m\u001b[1;33m,\u001b[0m \u001b[1;32mNone\u001b[0m\u001b[1;33m)\u001b[0m\u001b[1;33m\u001b[0m\u001b[1;33m\u001b[0m\u001b[0m\n\u001b[0m\u001b[0;32m    427\u001b[0m         \u001b[1;32mexcept\u001b[0m \u001b[1;33m(\u001b[0m\u001b[0mSocketTimeout\u001b[0m\u001b[1;33m,\u001b[0m \u001b[0mBaseSSLError\u001b[0m\u001b[1;33m,\u001b[0m \u001b[0mSocketError\u001b[0m\u001b[1;33m)\u001b[0m \u001b[1;32mas\u001b[0m \u001b[0me\u001b[0m\u001b[1;33m:\u001b[0m\u001b[1;33m\u001b[0m\u001b[1;33m\u001b[0m\u001b[0m\n\u001b[0;32m    428\u001b[0m             \u001b[0mself\u001b[0m\u001b[1;33m.\u001b[0m\u001b[0m_raise_timeout\u001b[0m\u001b[1;33m(\u001b[0m\u001b[0merr\u001b[0m\u001b[1;33m=\u001b[0m\u001b[0me\u001b[0m\u001b[1;33m,\u001b[0m \u001b[0murl\u001b[0m\u001b[1;33m=\u001b[0m\u001b[0murl\u001b[0m\u001b[1;33m,\u001b[0m \u001b[0mtimeout_value\u001b[0m\u001b[1;33m=\u001b[0m\u001b[0mread_timeout\u001b[0m\u001b[1;33m)\u001b[0m\u001b[1;33m\u001b[0m\u001b[1;33m\u001b[0m\u001b[0m\n",
      "\u001b[1;32mC:\\Python38\\lib\\site-packages\\urllib3\\packages\\six.py\u001b[0m in \u001b[0;36mraise_from\u001b[1;34m(value, from_value)\u001b[0m\n",
      "\u001b[1;32mC:\\Python38\\lib\\site-packages\\urllib3\\connectionpool.py\u001b[0m in \u001b[0;36m_make_request\u001b[1;34m(self, conn, method, url, timeout, chunked, **httplib_request_kw)\u001b[0m\n\u001b[0;32m    419\u001b[0m                 \u001b[1;31m# Python 3\u001b[0m\u001b[1;33m\u001b[0m\u001b[1;33m\u001b[0m\u001b[1;33m\u001b[0m\u001b[0m\n\u001b[0;32m    420\u001b[0m                 \u001b[1;32mtry\u001b[0m\u001b[1;33m:\u001b[0m\u001b[1;33m\u001b[0m\u001b[1;33m\u001b[0m\u001b[0m\n\u001b[1;32m--> 421\u001b[1;33m                     \u001b[0mhttplib_response\u001b[0m \u001b[1;33m=\u001b[0m \u001b[0mconn\u001b[0m\u001b[1;33m.\u001b[0m\u001b[0mgetresponse\u001b[0m\u001b[1;33m(\u001b[0m\u001b[1;33m)\u001b[0m\u001b[1;33m\u001b[0m\u001b[1;33m\u001b[0m\u001b[0m\n\u001b[0m\u001b[0;32m    422\u001b[0m                 \u001b[1;32mexcept\u001b[0m \u001b[0mBaseException\u001b[0m \u001b[1;32mas\u001b[0m \u001b[0me\u001b[0m\u001b[1;33m:\u001b[0m\u001b[1;33m\u001b[0m\u001b[1;33m\u001b[0m\u001b[0m\n\u001b[0;32m    423\u001b[0m                     \u001b[1;31m# Remove the TypeError from the exception chain in\u001b[0m\u001b[1;33m\u001b[0m\u001b[1;33m\u001b[0m\u001b[1;33m\u001b[0m\u001b[0m\n",
      "\u001b[1;32mC:\\Python38\\lib\\http\\client.py\u001b[0m in \u001b[0;36mgetresponse\u001b[1;34m(self)\u001b[0m\n\u001b[0;32m   1330\u001b[0m         \u001b[1;32mtry\u001b[0m\u001b[1;33m:\u001b[0m\u001b[1;33m\u001b[0m\u001b[1;33m\u001b[0m\u001b[0m\n\u001b[0;32m   1331\u001b[0m             \u001b[1;32mtry\u001b[0m\u001b[1;33m:\u001b[0m\u001b[1;33m\u001b[0m\u001b[1;33m\u001b[0m\u001b[0m\n\u001b[1;32m-> 1332\u001b[1;33m                 \u001b[0mresponse\u001b[0m\u001b[1;33m.\u001b[0m\u001b[0mbegin\u001b[0m\u001b[1;33m(\u001b[0m\u001b[1;33m)\u001b[0m\u001b[1;33m\u001b[0m\u001b[1;33m\u001b[0m\u001b[0m\n\u001b[0m\u001b[0;32m   1333\u001b[0m             \u001b[1;32mexcept\u001b[0m \u001b[0mConnectionError\u001b[0m\u001b[1;33m:\u001b[0m\u001b[1;33m\u001b[0m\u001b[1;33m\u001b[0m\u001b[0m\n\u001b[0;32m   1334\u001b[0m                 \u001b[0mself\u001b[0m\u001b[1;33m.\u001b[0m\u001b[0mclose\u001b[0m\u001b[1;33m(\u001b[0m\u001b[1;33m)\u001b[0m\u001b[1;33m\u001b[0m\u001b[1;33m\u001b[0m\u001b[0m\n",
      "\u001b[1;32mC:\\Python38\\lib\\http\\client.py\u001b[0m in \u001b[0;36mbegin\u001b[1;34m(self)\u001b[0m\n\u001b[0;32m    301\u001b[0m         \u001b[1;31m# read until we get a non-100 response\u001b[0m\u001b[1;33m\u001b[0m\u001b[1;33m\u001b[0m\u001b[1;33m\u001b[0m\u001b[0m\n\u001b[0;32m    302\u001b[0m         \u001b[1;32mwhile\u001b[0m \u001b[1;32mTrue\u001b[0m\u001b[1;33m:\u001b[0m\u001b[1;33m\u001b[0m\u001b[1;33m\u001b[0m\u001b[0m\n\u001b[1;32m--> 303\u001b[1;33m             \u001b[0mversion\u001b[0m\u001b[1;33m,\u001b[0m \u001b[0mstatus\u001b[0m\u001b[1;33m,\u001b[0m \u001b[0mreason\u001b[0m \u001b[1;33m=\u001b[0m \u001b[0mself\u001b[0m\u001b[1;33m.\u001b[0m\u001b[0m_read_status\u001b[0m\u001b[1;33m(\u001b[0m\u001b[1;33m)\u001b[0m\u001b[1;33m\u001b[0m\u001b[1;33m\u001b[0m\u001b[0m\n\u001b[0m\u001b[0;32m    304\u001b[0m             \u001b[1;32mif\u001b[0m \u001b[0mstatus\u001b[0m \u001b[1;33m!=\u001b[0m \u001b[0mCONTINUE\u001b[0m\u001b[1;33m:\u001b[0m\u001b[1;33m\u001b[0m\u001b[1;33m\u001b[0m\u001b[0m\n\u001b[0;32m    305\u001b[0m                 \u001b[1;32mbreak\u001b[0m\u001b[1;33m\u001b[0m\u001b[1;33m\u001b[0m\u001b[0m\n",
      "\u001b[1;32mC:\\Python38\\lib\\http\\client.py\u001b[0m in \u001b[0;36m_read_status\u001b[1;34m(self)\u001b[0m\n\u001b[0;32m    262\u001b[0m \u001b[1;33m\u001b[0m\u001b[0m\n\u001b[0;32m    263\u001b[0m     \u001b[1;32mdef\u001b[0m \u001b[0m_read_status\u001b[0m\u001b[1;33m(\u001b[0m\u001b[0mself\u001b[0m\u001b[1;33m)\u001b[0m\u001b[1;33m:\u001b[0m\u001b[1;33m\u001b[0m\u001b[1;33m\u001b[0m\u001b[0m\n\u001b[1;32m--> 264\u001b[1;33m         \u001b[0mline\u001b[0m \u001b[1;33m=\u001b[0m \u001b[0mstr\u001b[0m\u001b[1;33m(\u001b[0m\u001b[0mself\u001b[0m\u001b[1;33m.\u001b[0m\u001b[0mfp\u001b[0m\u001b[1;33m.\u001b[0m\u001b[0mreadline\u001b[0m\u001b[1;33m(\u001b[0m\u001b[0m_MAXLINE\u001b[0m \u001b[1;33m+\u001b[0m \u001b[1;36m1\u001b[0m\u001b[1;33m)\u001b[0m\u001b[1;33m,\u001b[0m \u001b[1;34m\"iso-8859-1\"\u001b[0m\u001b[1;33m)\u001b[0m\u001b[1;33m\u001b[0m\u001b[1;33m\u001b[0m\u001b[0m\n\u001b[0m\u001b[0;32m    265\u001b[0m         \u001b[1;32mif\u001b[0m \u001b[0mlen\u001b[0m\u001b[1;33m(\u001b[0m\u001b[0mline\u001b[0m\u001b[1;33m)\u001b[0m \u001b[1;33m>\u001b[0m \u001b[0m_MAXLINE\u001b[0m\u001b[1;33m:\u001b[0m\u001b[1;33m\u001b[0m\u001b[1;33m\u001b[0m\u001b[0m\n\u001b[0;32m    266\u001b[0m             \u001b[1;32mraise\u001b[0m \u001b[0mLineTooLong\u001b[0m\u001b[1;33m(\u001b[0m\u001b[1;34m\"status line\"\u001b[0m\u001b[1;33m)\u001b[0m\u001b[1;33m\u001b[0m\u001b[1;33m\u001b[0m\u001b[0m\n",
      "\u001b[1;32mC:\\Python38\\lib\\socket.py\u001b[0m in \u001b[0;36mreadinto\u001b[1;34m(self, b)\u001b[0m\n\u001b[0;32m    667\u001b[0m         \u001b[1;32mwhile\u001b[0m \u001b[1;32mTrue\u001b[0m\u001b[1;33m:\u001b[0m\u001b[1;33m\u001b[0m\u001b[1;33m\u001b[0m\u001b[0m\n\u001b[0;32m    668\u001b[0m             \u001b[1;32mtry\u001b[0m\u001b[1;33m:\u001b[0m\u001b[1;33m\u001b[0m\u001b[1;33m\u001b[0m\u001b[0m\n\u001b[1;32m--> 669\u001b[1;33m                 \u001b[1;32mreturn\u001b[0m \u001b[0mself\u001b[0m\u001b[1;33m.\u001b[0m\u001b[0m_sock\u001b[0m\u001b[1;33m.\u001b[0m\u001b[0mrecv_into\u001b[0m\u001b[1;33m(\u001b[0m\u001b[0mb\u001b[0m\u001b[1;33m)\u001b[0m\u001b[1;33m\u001b[0m\u001b[1;33m\u001b[0m\u001b[0m\n\u001b[0m\u001b[0;32m    670\u001b[0m             \u001b[1;32mexcept\u001b[0m \u001b[0mtimeout\u001b[0m\u001b[1;33m:\u001b[0m\u001b[1;33m\u001b[0m\u001b[1;33m\u001b[0m\u001b[0m\n\u001b[0;32m    671\u001b[0m                 \u001b[0mself\u001b[0m\u001b[1;33m.\u001b[0m\u001b[0m_timeout_occurred\u001b[0m \u001b[1;33m=\u001b[0m \u001b[1;32mTrue\u001b[0m\u001b[1;33m\u001b[0m\u001b[1;33m\u001b[0m\u001b[0m\n",
      "\u001b[1;32mC:\\Python38\\lib\\ssl.py\u001b[0m in \u001b[0;36mrecv_into\u001b[1;34m(self, buffer, nbytes, flags)\u001b[0m\n\u001b[0;32m   1239\u001b[0m                   \u001b[1;34m\"non-zero flags not allowed in calls to recv_into() on %s\"\u001b[0m \u001b[1;33m%\u001b[0m\u001b[1;33m\u001b[0m\u001b[1;33m\u001b[0m\u001b[0m\n\u001b[0;32m   1240\u001b[0m                   self.__class__)\n\u001b[1;32m-> 1241\u001b[1;33m             \u001b[1;32mreturn\u001b[0m \u001b[0mself\u001b[0m\u001b[1;33m.\u001b[0m\u001b[0mread\u001b[0m\u001b[1;33m(\u001b[0m\u001b[0mnbytes\u001b[0m\u001b[1;33m,\u001b[0m \u001b[0mbuffer\u001b[0m\u001b[1;33m)\u001b[0m\u001b[1;33m\u001b[0m\u001b[1;33m\u001b[0m\u001b[0m\n\u001b[0m\u001b[0;32m   1242\u001b[0m         \u001b[1;32melse\u001b[0m\u001b[1;33m:\u001b[0m\u001b[1;33m\u001b[0m\u001b[1;33m\u001b[0m\u001b[0m\n\u001b[0;32m   1243\u001b[0m             \u001b[1;32mreturn\u001b[0m \u001b[0msuper\u001b[0m\u001b[1;33m(\u001b[0m\u001b[1;33m)\u001b[0m\u001b[1;33m.\u001b[0m\u001b[0mrecv_into\u001b[0m\u001b[1;33m(\u001b[0m\u001b[0mbuffer\u001b[0m\u001b[1;33m,\u001b[0m \u001b[0mnbytes\u001b[0m\u001b[1;33m,\u001b[0m \u001b[0mflags\u001b[0m\u001b[1;33m)\u001b[0m\u001b[1;33m\u001b[0m\u001b[1;33m\u001b[0m\u001b[0m\n",
      "\u001b[1;32mC:\\Python38\\lib\\ssl.py\u001b[0m in \u001b[0;36mread\u001b[1;34m(self, len, buffer)\u001b[0m\n\u001b[0;32m   1097\u001b[0m         \u001b[1;32mtry\u001b[0m\u001b[1;33m:\u001b[0m\u001b[1;33m\u001b[0m\u001b[1;33m\u001b[0m\u001b[0m\n\u001b[0;32m   1098\u001b[0m             \u001b[1;32mif\u001b[0m \u001b[0mbuffer\u001b[0m \u001b[1;32mis\u001b[0m \u001b[1;32mnot\u001b[0m \u001b[1;32mNone\u001b[0m\u001b[1;33m:\u001b[0m\u001b[1;33m\u001b[0m\u001b[1;33m\u001b[0m\u001b[0m\n\u001b[1;32m-> 1099\u001b[1;33m                 \u001b[1;32mreturn\u001b[0m \u001b[0mself\u001b[0m\u001b[1;33m.\u001b[0m\u001b[0m_sslobj\u001b[0m\u001b[1;33m.\u001b[0m\u001b[0mread\u001b[0m\u001b[1;33m(\u001b[0m\u001b[0mlen\u001b[0m\u001b[1;33m,\u001b[0m \u001b[0mbuffer\u001b[0m\u001b[1;33m)\u001b[0m\u001b[1;33m\u001b[0m\u001b[1;33m\u001b[0m\u001b[0m\n\u001b[0m\u001b[0;32m   1100\u001b[0m             \u001b[1;32melse\u001b[0m\u001b[1;33m:\u001b[0m\u001b[1;33m\u001b[0m\u001b[1;33m\u001b[0m\u001b[0m\n\u001b[0;32m   1101\u001b[0m                 \u001b[1;32mreturn\u001b[0m \u001b[0mself\u001b[0m\u001b[1;33m.\u001b[0m\u001b[0m_sslobj\u001b[0m\u001b[1;33m.\u001b[0m\u001b[0mread\u001b[0m\u001b[1;33m(\u001b[0m\u001b[0mlen\u001b[0m\u001b[1;33m)\u001b[0m\u001b[1;33m\u001b[0m\u001b[1;33m\u001b[0m\u001b[0m\n",
      "\u001b[1;31mKeyboardInterrupt\u001b[0m: "
     ]
    }
   ],
   "source": [
    "import re\n",
    "\n",
    "i = 2\n",
    "prefix = \"https://collegedunia.com/reviews/\"\n",
    "\n",
    "with open('all_review_links.txt',\"w\") as tp:\n",
    "    while(i<9863):\n",
    "        webpage_response = requests.get('https://collegedunia.com/reviews/page-'+str(i))\n",
    "        webpage = webpage_response.content\n",
    "        soup = BeautifulSoup(webpage, \"html.parser\")\n",
    "        \n",
    "        review_links = soup.find_all(\"a\")\n",
    "        links = []\n",
    "        for a in review_links:\n",
    "            s = a[\"href\"]\n",
    "            if re.match(r\"https://collegedunia.com/reviews/+\\d\", s): # if followed by a digit\n",
    "                links.append(s)\n",
    "                \n",
    "        uniquelinks = set(links)\n",
    "        for val in uniquelinks: \n",
    "            tp.write(val+'\\n') \n",
    "    \n",
    "        i = i+1"
   ]
  },
  {
   "cell_type": "code",
   "execution_count": 12,
   "metadata": {},
   "outputs": [],
   "source": [
    "## review page url scraping starts from here\n",
    "\n",
    "webpage_response = requests.get('https://collegedunia.com/reviews/21776-arun-k-lenin-review-on-indian-institute-of-technology-madras-iitm-chennai')\n",
    "\n",
    "webpage = webpage_response.content\n",
    "soup = BeautifulSoup(webpage, \"html.parser\")"
   ]
  },
  {
   "cell_type": "code",
   "execution_count": 14,
   "metadata": {},
   "outputs": [
    {
     "output_type": "stream",
     "name": "stdout",
     "text": [
      "<p class=\"head-xs text-tiny\">top links</p>\n<p class=\"typeahead-header search_filter_head text-h2\">trending Searches</p>\n<p class=\"banner_heading text-h1\"><span>we're</span>on mobile too</p>\n<p>get collegedunia app for</p>\n<p class=\"banner_subheading text-md\"><svg><use href=\"#icon-faster\"></use></svg> 10x faster experience</p>\n<p>get app link on your mobile</p>\n<p>Application download link has been sent on your phone number via SMS</p>\n<p>Indian Institute of Technology Madras - [IITM]</p>\n<p>BACHELOR OF TECHNOLOGY [B.TECH] (CHEMICAL ENGINEERING)   <span><br/>PURSUED First Year  <span><br/>BATCH : 2020</span></span></p>\n<p>RATINGS</p>\n<p>10/<span>10</span></p>\n<p>10/<span>10</span></p>\n<p>10/<span>10</span></p>\n<p>10/<span>10</span></p>\n<p>10/<span>10</span></p>\n<p>10/<span>10</span></p>\n<p>IITM, Chennai</p>\n<p>JEE and I chose chemical engineering because I very good at chemistry however both are different. Branch doesn't matters much, college is important.</p>\n<p>For general almost 1.4lcs per sem and there are many scholarships for sc st they have very less about 13k per sem and 23k for hostel for everyone.</p>\n<p>Qualifying mains and applying for JEE advanced admission process counselling took some time because there are 6 rounds and 2 days of admission process in the campus itself.</p>\n<p>Without seniors nothing happens here they are the persons conducting everything in the campus whatever it is from fests to taking attendance they are very helpful.</p>\n<p>Highly standard professors they are busy with their research works but they come to teach us. Their intention is not to get good grades for students but to give lots of concepts.</p>\n<p>Gender ratio of 1:10 almost and workshops at starting and ending time of sem there many clubs almost 20 and litsoc, inter and intra hostel competitions; there are many games conducted during weekends, the are NSS NCC NSO, regional and cultural activities are also conducted here. There are many animals here almost 50 studies of birds , monkeys, 3 types of deers including blackbuck.</p>\n<p>There are many important are Shaasthra and Saarang they are one the biggest fests in India inter IIT sports and fests inter hostel sports and fests are also conducted. Shaasthra and Saarang are conducted during first week of January almost 50000 people gathers here from different parts of India.</p>\n<p>Many are there mcm scholarship st/sc scholarship I think Aditya Birla scholarship and loans are available for students who can get CGPA more than may be 6 or 7.</p>\n<p><a class=\"college-name\" href=\"https://collegedunia.com/university/25907-tamil-nadu-veterinary-and-animal-sciences-university-tanuvas-chennai\" style=\"color:#323c4f;text-transform:uppercase\"> Tamil Nadu Veterinary and Animal Sciences University - [TANUVAS], Chennai</a></p>\n<p>There is no bad comment for my college. It's very good.</p>\n<p><a class=\"college-name\" href=\"https://collegedunia.com/university/25914-vellore-institute-of-technology-vit-university-vellore\" style=\"color:#323c4f;text-transform:uppercase\"> Vellore Institute of Technology - [VIT University], Vellore</a></p>\n<p><a class=\"college-name\" href=\"https://collegedunia.com/university/25914-vellore-institute-of-technology-vit-university-vellore\" style=\"color:#323c4f;text-transform:uppercase\"> Vellore Institute of Technology - [VIT University], Vellore</a></p>\n<p>Yeah, the positive remark is the college has a wide reached between several countries. So there are many opportunities to learn, cultural influences, and attitude building. So there is a lot and lot to see upon the self-growth and the positive outlook in society.</p>\n<p><a class=\"college-name\" href=\"https://collegedunia.com/university/25914-vellore-institute-of-technology-vit-university-vellore\" style=\"color:#323c4f;text-transform:uppercase\"> Vellore Institute of Technology - [VIT University], Vellore</a></p>\n<p>Great college overall, very welcoming place for all students, home away from home, you get to learn a lot and grow as well. Lots of experience that helps you in the future. All these small lessons really shape you into a great person</p>\n<p><a class=\"college-name\" href=\"https://collegedunia.com/university/25914-vellore-institute-of-technology-vit-university-vellore\" style=\"color:#323c4f;text-transform:uppercase\"> Vellore Institute of Technology - [VIT University], Vellore</a></p>\n<p>Has been improving day to day, month to month, year to year by including, implementing a lot of new changes into action. Everything is raising the education system, college standards to a higher level. Still, a few changes need to be taken care of. Yet, comparatively, a good one.</p>\n<p><a class=\"college-name\" href=\"https://collegedunia.com/university/25914-vellore-institute-of-technology-vit-university-vellore\" style=\"color:#323c4f;text-transform:uppercase\"> Vellore Institute of Technology - [VIT University], Vellore</a></p>\n<p><a class=\"college-name\" href=\"https://collegedunia.com/university/25914-vellore-institute-of-technology-vit-university-vellore\" style=\"color:#323c4f;text-transform:uppercase\"> Vellore Institute of Technology - [VIT University], Vellore</a></p>\n<p>Positive Review: Well vit is one of the best colleges in India. If u are going to take admission in any College then first see what is the placement record of the College. Vit has the best placements. some of the branches are really good like cs, it, ece, me</p>\n<p><a class=\"college-name\" href=\"https://collegedunia.com/university/56189-srm-institute-of-science-and-technology-ramapuram-campus-chennai\" style=\"color:#323c4f;text-transform:uppercase\"> SRM Institute of Science  and Technology Ramapuram Campus, Chennai</a></p>\n<p>There are a lot of things which need to change in our college started with being gender biased and then community/region biased. Also forcing boys and girls to sit separately in class and maligning girls if they sit next to boys or whatever they do. They demean and demoralize women in various ways and also support male chauvinism. But all in all with friends away from home and growing up with them in all aspects is fun too. College actually is a phase where we learn a lot, even though our college does demoralize it encourages students too.</p>\n<p><a class=\"college-name\" href=\"https://collegedunia.com/college/12809-amrita-school-of-engineering-ase-coimbatore\" style=\"color:#323c4f;text-transform:uppercase\"> Amrita School of Engineering - [ASE], Coimbatore</a></p>\n<p>The atmosphere is good .college is surrounded by the green tress and mountains with less pollution and sounds.they have a guest house for the relatives or parents who visits their children to take rest .</p>\n<p><a class=\"college-name\" href=\"https://collegedunia.com/university/25871-bharath-university-bharath-institute-of-higher-education-and-research-biher-chennai\" style=\"color:#323c4f;text-transform:uppercase\"> Bharath University - Bharath Institute of Higher Education and Research - [BIHER], Chennai</a></p>\n<p>The only fake company comes in this college and always the placement cell will say that 3 lakh to 5 lakh package.  But they never take like that.</p>\n<p>Practical learning was good but theoretical knowledge is not good for staff. They teach what they want. Always they want to complete their syllabus it does matter we understood or not.</p>\n<p>Thanks for your valuable feedback. Our team will look into it.</p>\n<p>Keep up to date with our progress by following us</p>\n<p class=\"branch\">MECHANICAL ENGINEERING, Enrolled on 0000</p>\n<p class=\"college_name\">Indian Institute of Technology Madras - [IITM], Chennai</p>\n<p class=\"reviews_para\">All positive  <a class=\"read_more\" href=\"https://collegedunia.com/reviews/93055-rishabh-maheshwari-review-on-indian-institute-of-technology-madras-iitm-chennai\" title=\"Rishabh Maheshwari's Review On Indian Institute Of Technology Madras - [IITM], Chennai | collegedunia.com\">Read more</a></p>\n<p class=\"branch\">Pursued 2017 BE/B.TECH  <span><br/>BATCH : </span></p>\n<p class=\"college_name\">Indian Institute of Technology Madras - [IITM], Chennai</p>\n<p class=\"reviews_para\">There are no bad remarks about the campus because it has good infrastructure and good facilities.this is the top IIT campus located in south.my campus experience is very good.\n\t\t\t\t\t\t\t <a class=\"read_more\" href=\"https://collegedunia.com/reviews/58931-vishnu-teja-review-on-indian-institute-of-technology-madras-iitm-chennai\" title=\"Vishnu Teja's Review On Indian Institute Of Technology Madras - [IITM], Chennai | collegedunia.com\">Read more</a></p>\n<p class=\"branch\">Pursued 3rd year PH.D. (MECHANICAL ENGINEERING)  <span><br/>BATCH : 2019</span></p>\n<p class=\"college_name\">Indian Institute of Technology Madras - [IITM], Chennai</p>\n<p class=\"reviews_para\">100% placement is happening with students getting multiple options.This is the place where all the top companies like : Microsft,google,facebook,etc comes for placement and the average package comes t... <a class=\"read_more\" href=\"https://collegedunia.com/reviews/64982-vishnu-review-on-indian-institute-of-technology-madras-iitm-chennai\" title=\"VISHNU's Review On Indian Institute Of Technology Madras - [IITM], Chennai | collegedunia.com\">Read more</a></p>\n<p class=\"branch\">BACHELOR OF TECHNOLOGY [B.TECH] (COMPUTER SCIENCE AND ENGINEERING), Enrolled on 0000</p>\n<p class=\"college_name\">Indian Institute of Technology Madras - [IITM], Chennai</p>\n<p class=\"reviews_para\">Overall, an excellent institute with excellent facilities, wonderful faculty, talented peers and plenty of support infrastructure to excel academically and professionally. The four years are IIT are t... <a class=\"read_more\" href=\"https://collegedunia.com/reviews/22254-murali-review-on-indian-institute-of-technology-madras-iitm-chennai\" title=\"Murali's Review On Indian Institute Of Technology Madras - [IITM], Chennai | collegedunia.com\">Read more</a></p>\n<p class=\"branch\">Pursued FINAL YEAR MS  <span><br/>BATCH : </span></p>\n<p class=\"college_name\">Indian Institute of Technology Madras - [IITM], Chennai</p>\n<p class=\"reviews_para\">College management is the best. They provide all kind of resources to us. Also lots of fitness related facility is free for student. <a class=\"read_more\" href=\"https://collegedunia.com/reviews/18618-vikas-chauhan-review-on-indian-institute-of-technology-madras-iitm-chennai\" title=\"Vikas Chauhan's Review On Indian Institute Of Technology Madras - [IITM], Chennai | collegedunia.com\">Read more</a></p>\n<p class=\"branch\">Pursued 1 M.TECH  <span><br/>BATCH : </span></p>\n<p class=\"college_name\">Indian Institute of Technology Madras - [IITM], Chennai</p>\n<p class=\"reviews_para\">GATE and after that i have given exam for l&amp;t preceeded by an interview. For applying in l&amp;t u will need to fill a seperate form come under BIS scheme. <a class=\"read_more\" href=\"https://collegedunia.com/reviews/18605-abhishek-srivastava-review-on-indian-institute-of-technology-madras-iitm-chennai\" title=\"Abhishek Srivastava's Review On Indian Institute Of Technology Madras - [IITM], Chennai | collegedunia.com\">Read more</a></p>\n<p class=\"branch\">CIVIL ENGINEERING, Enrolled on 0000</p>\n<p class=\"college_name\">Indian Institute of Technology Madras - [IITM], Chennai</p>\n<p class=\"reviews_para\">Nothing Bad to say ,  If you can secure a good rank in JEE. This is the place you have to be. <a class=\"read_more\" href=\"https://collegedunia.com/reviews/18609-tsai-charan-review-on-indian-institute-of-technology-madras-iitm-chennai\" title=\"T.Sai Charan's Review On Indian Institute Of Technology Madras - [IITM], Chennai | collegedunia.com\">Read more</a></p>\n<p class=\"branch\">B.TECH,  CIVIL ENGINEERING, Enrolled on 0000</p>\n<p class=\"college_name\">Indian Institute of Technology Madras - [IITM], Chennai</p>\n<p class=\"reviews_para\">The institute administration is very student friendly. Student bodies which comprise of the elected students work in close tandem with the institute administration to make the stay of students more co... <a class=\"read_more\" href=\"https://collegedunia.com/reviews/18608-mudit-verma-review-on-indian-institute-of-technology-madras-iitm-chennai\" title=\"Mudit Verma's Review On Indian Institute Of Technology Madras - [IITM], Chennai | collegedunia.com\">Read more</a></p>\n<p class=\"branch\">M.TECH (TRANSPORTATION ENGINEERING), Enrolled on 0000</p>\n<p class=\"college_name\">Indian Institute of Technology Madras - [IITM], Chennai</p>\n<p class=\"reviews_para\">GATE-2011, GATE Percentile  98.3 GATE Rank 475 .Reputed Colleges like IIT Madras good for learning and skill development. <a class=\"read_more\" href=\"https://collegedunia.com/reviews/18612-v-rajashekar-review-on-indian-institute-of-technology-madras-iitm-chennai\" title=\"V. Rajashekar's Review On Indian Institute Of Technology Madras - [IITM], Chennai | collegedunia.com\">Read more</a></p>\n<p class=\"branch\">Pursued 4th year CIVIL ENGG. DUAL DEGREE  <span><br/>BATCH : </span></p>\n<p class=\"college_name\">Indian Institute of Technology Madras - [IITM], Chennai</p>\n<p class=\"reviews_para\">None. Insti life is the best in my life. You have a multitude of opportunities. Coming to IIT is not an ending, it a new beginning and an opportunity to standout among the crowd. <a class=\"read_more\" href=\"https://collegedunia.com/reviews/1347-vishnupriya-aryabhumi-review-on-indian-institute-of-technology-madras-iitm-chennai\" title=\"Vishnupriya Aryabhumi's Review On Indian Institute Of Technology Madras - [IITM], Chennai | collegedunia.com\">Read more</a></p>\n<p class=\"text-sm\" id=\"validation-errors-footer\"></p>\n<p class=\"footererror\"></p>\n<p class=\"subscribeform\"></p>\n<p>COPYRIGHT © 2020 COLLEGEDUNIA WEB PVT. LTD. ALL RIGHTS RESERVED</p>\n<p>How Collegedunia helps you in<br/>Admission</p>\n<p>Brochure Details</p>\n<p>Check Detailed Fees</p>\n<p>Shortlist and Apply</p>\n<p>24/7 Counselling</p>\n<p>Scholarships</p>\n<p>Application Deadlines</p>\n<p class=\"lead-head\">What People Say</p>\n<p>Because of collegedunia, all my questions regarding JEE Mains were answered.</p>\n<p class=\"username\"><span>\"</span>Arnav Chitkar</p>\n<p>No need to remember deadlines as I get timely updates now.</p>\n<p class=\"username\"><span>\"</span>Ridhima Sharma</p>\n<p>Collegedunia is a one-stop solution to all your education related queries.</p>\n<p class=\"username\"><span>\"</span>Gurmeet Singh</p>\n<p> I was anxious about my exam preparation. Collegedunia helped me to ace it.</p>\n<p class=\"username\"><span>\"</span>Mayank Sharma</p>\n<p>In depth CAT exam analysis available for free</p>\n<p class=\"username\"><span>\"</span>Ritu Dua</p>\n<p>Practice Paper section helped me in preparing without coaching.</p>\n<p class=\"username\"><span>\"</span>Sanchi Ahuja</p>\n<p>After subscribing to Collegedunia, I get important alerts about exams on time.</p>\n<p class=\"username\"><span>\"</span>Aaravi Sharma</p>\n<p>Authentic student reviews helped me compare colleges easily.</p>\n<p class=\"username\"><span>\"</span>Subhash Malhotra</p>\n<p id=\"js-leadform-sub-heading\" title=\"Indian Institute of Technology Madras - [IITM], Chennai\">Indian Institute of Technology Madras - [IITM], Chennai</p>\n<p class=\"form-error is-hidden\" id=\"js-error-name\">Enter a valid Name</p>\n<p class=\"form-error is-hidden\" id=\"js-error-email\">Enter a valid Email Address</p>\n<p class=\"form-error is-hidden\" id=\"js-error-country_code\"></p>\n<p class=\"form-error is-hidden\" id=\"js-error-phone_no\">Enter a valid Mobile Number</p>\n<p class=\"form-error is-hidden\" id=\"js-error-city\">Select a valid City</p>\n<p class=\"form-error is-hidden\" id=\"js-error-course_tag_id\">Select a valid Course</p>\n<p class=\"checkbox-title\">Looking For Distance Course?</p>\n<p class=\"text-heading mb-0 text-right mt-0 text-sm font-weight-light float-right\"><span class=\"js-text-support text-support\" data-max-length=\"300\">0</span>/300</p>\n<p class=\"form-error is-hidden\" id=\"js-error-message\">Enter a Message under 300 characters</p>\n<p class=\"text-tiny login-validation-errors\" id=\"show_error_login_phone_no\"></p>\n<p class=\"text-tiny login-validation-errors\" id=\"show_error_login_pwd\"></p>\n<p class=\"text-tiny login-validation-errors\" id=\"show_error_login_top1\"></p>\n<p class=\"next-link\"><a class=\"link-change to-login text-md\" href=\"\" title=\"Sign In\">Sign In</a></p>\n"
     ]
    }
   ],
   "source": [
    "turtle_links = soup.find_all(\"p\")\n",
    "links = []\n",
    "#go through all of the a tags and get the links associated with them:\n",
    "for a in turtle_links:\n",
    "  print(a)"
   ]
  },
  {
   "cell_type": "code",
   "execution_count": 13,
   "metadata": {},
   "outputs": [
    {
     "output_type": "stream",
     "name": "stdout",
     "text": [
      "<h4 class=\"modal-title text-h1\">THANK YOU</h4>\n<h4>Arun K Lenin </h4>\n<h4>ENTRANCE PREVIEW</h4>\n<h4>FEE STRUCTURE AND FACILITIES</h4>\n<h4>ADMISSION</h4>\n<h4>ALUMNI</h4>\n<h4>FACULTY</h4>\n<h4>CAMPUS LIFE</h4>\n<h4>COLLEGE EVENTS</h4>\n<h4>LOAN/ SCHOLARSHIP PROVISIONS</h4>\n<h4>Related Reviews</h4>\n<h4>Rishabh Maheshwari</h4>\n<h4>Vishnu teja</h4>\n<h4>VISHNU</h4>\n<h4>Murali</h4>\n<h4>Vikas Chauhan</h4>\n<h4>Abhishek Srivastava</h4>\n<h4>T.Sai Charan</h4>\n<h4>Mudit Verma</h4>\n<h4>V. Rajashekar</h4>\n<h4>Vishnupriya Aryabhumi</h4>\n<h4>Member Login</h4>\n<h4>Forgot Password</h4>\n"
     ]
    }
   ],
   "source": [
    "turtle_links = soup.find_all(\"h4\")\n",
    "links = []\n",
    "#go through all of the a tags and get the links associated with them:\n",
    "for a in turtle_links:\n",
    "  print(a)"
   ]
  },
  {
   "cell_type": "code",
   "execution_count": 31,
   "metadata": {
    "tags": []
   },
   "outputs": [
    {
     "output_type": "stream",
     "name": "stdout",
     "text": [
      "JEE and I chose chemical engineering because I very good at chemistry however both are different. Branch doesn't matters much, college is important.\n"
     ]
    }
   ],
   "source": [
    "review_links = soup.find_all(\"div\", class_= \"in_body\")\n",
    "h4_links = []\n",
    "p_links = []\n",
    "\n",
    "print(review_links[0].select(\"p\")[0].get_text())\n",
    "# go through all of the a tags and get the links associated with them:\n",
    "for a in review_links:\n",
    "  h4_links.append(a.select(\"h4\")[0].get_text())\n",
    "  p_links.append(a.select(\"p\")[0].get_text())"
   ]
  },
  {
   "cell_type": "code",
   "execution_count": 35,
   "metadata": {},
   "outputs": [
    {
     "output_type": "stream",
     "name": "stdout",
     "text": [
      "ENTRANCE PREVIEW\nJEE and I chose chemical engineering because I very good at chemistry however both are different. Branch doesn't matters much, college is important.\nFEE STRUCTURE AND FACILITIES\nFor general almost 1.4lcs per sem and there are many scholarships for sc st they have very less about 13k per sem and 23k for hostel for everyone.\nADMISSION\nQualifying mains and applying for JEE advanced admission process counselling took some time because there are 6 rounds and 2 days of admission process in the campus itself.\nALUMNI\nWithout seniors nothing happens here they are the persons conducting everything in the campus whatever it is from fests to taking attendance they are very helpful.\nFACULTY\nHighly standard professors they are busy with their research works but they come to teach us. Their intention is not to get good grades for students but to give lots of concepts.\nCAMPUS LIFE\nGender ratio of 1:10 almost and workshops at starting and ending time of sem there many clubs almost 20 and litsoc, inter and intra hostel competitions; there are many games conducted during weekends, the are NSS NCC NSO, regional and cultural activities are also conducted here. There are many animals here almost 50 studies of birds , monkeys, 3 types of deers including blackbuck.\nCOLLEGE EVENTS\nThere are many important are Shaasthra and Saarang they are one the biggest fests in India inter IIT sports and fests inter hostel sports and fests are also conducted. Shaasthra and Saarang are conducted during first week of January almost 50000 people gathers here from different parts of India.\nLOAN/ SCHOLARSHIP PROVISIONS\nMany are there mcm scholarship st/sc scholarship I think Aditya Birla scholarship and loans are available for students who can get CGPA more than may be 6 or 7.\n"
     ]
    }
   ],
   "source": [
    "for i in range(len(h4_links)):\n",
    "    print(h4_links[i])\n",
    "    print(p_links[i])\n",
    "    \n",
    "# for a in p_links:\n",
    "    # print(a)"
   ]
  },
  {
   "cell_type": "code",
   "execution_count": 52,
   "metadata": {},
   "outputs": [],
   "source": [
    "# scrape to get unique headings in the review\n",
    "\n",
    "i = 1\n",
    "h4_links = []\n",
    "\n",
    "with open('all_review_links.txt',\"r\") as tp:\n",
    "    while(i<100):\n",
    "        str = tp.readline()\n",
    "        webpage_response = requests.get(str)\n",
    "        webpage = webpage_response.content\n",
    "        soup = BeautifulSoup(webpage, \"html.parser\")\n",
    "        \n",
    "        review_links = soup.find_all(\"div\", class_= \"in_body\")\n",
    "        for a in review_links:\n",
    "            h4_links.append(a.select(\"h4\")[0].get_text())\n",
    "    \n",
    "        i = i+1"
   ]
  },
  {
   "cell_type": "code",
   "execution_count": 53,
   "metadata": {},
   "outputs": [
    {
     "output_type": "stream",
     "name": "stdout",
     "text": [
      "LOAN/ SCHOLARSHIP PROVISIONS\nPLACEMENT WING\nCOURSE CURRICULUM OVERVIEW\nINTERVIEW EXPERIENCE\nADMISSION\nHOSTEL FACILITIES\nCAMPUS LIFE\nREMARKS\nINTERNSHIPS OPPORTUNITIES\n"
     ]
    }
   ],
   "source": [
    "unique_h4_links = set(h4_links)\n",
    "for x in unique_h4_links:\n",
    "    print(x)"
   ]
  },
  {
   "cell_type": "code",
   "execution_count": 14,
   "metadata": {},
   "outputs": [],
   "source": [
    "reviews = [\"LOAN/ SCHOLARSHIP PROVISIONS\", \"PLACEMENT WING\", \"COURSE CURRICULUM OVERVIEW\", \"INTERVIEW EXPERIENCE\", \"ADMISSION\", \"HOSTEL FACILITIES\", \"CAMPUS LIFE\", \"REMARKS\", \"INTERNSHIPS OPPORTUNITIES\", \"ALUMNI\", \"FACULTY\", \"FEE STRUCTURE AND FACILITIES\", \"ENTRANCE PREVIEW\", \"COLLEGE EVENTS\" ]"
   ]
  },
  {
   "cell_type": "code",
   "execution_count": 4,
   "metadata": {},
   "outputs": [
    {
     "output_type": "stream",
     "name": "stdout",
     "text": [
      "Indian Institute of Technology Madras - [IITM]\nBACHELOR OF TECHNOLOGY [B.TECH] (CHEMICAL ENGINEERING)   PURSUED First Year  BATCH : 2020\n"
     ]
    }
   ],
   "source": [
    "# scrape college name and course name \n",
    "\n",
    "webpage_response = requests.get('https://collegedunia.com/reviews/21776-arun-k-lenin-review-on-indian-institute-of-technology-madras-iitm-chennai')\n",
    "\n",
    "webpage = webpage_response.content\n",
    "soup = BeautifulSoup(webpage, \"html.parser\")\n",
    "\n",
    "review_name_and_course = soup.find_all(\"div\", class_= \"reviewer_dec\")\n",
    "links = []\n",
    "#go through all of the a tags and get the links associated with them:\n",
    "for a in review_name_and_course:\n",
    "  print(a.select(\"p\")[0].get_text())\n",
    "  print(a.select(\"p\")[1].get_text())"
   ]
  },
  {
   "cell_type": "code",
   "execution_count": 5,
   "metadata": {},
   "outputs": [],
   "source": [
    "# checking whether writing to excel file works\n",
    "from openpyxl import Workbook\n",
    "\n",
    "book = Workbook()\n",
    "sheet = book.active\n",
    "\n",
    "sheet['A1'] = 1\n",
    "sheet.cell(row=2, column=2).value = 2\n",
    "\n",
    "book.save('write2cell.xlsx')"
   ]
  },
  {
   "cell_type": "code",
   "execution_count": 17,
   "metadata": {},
   "outputs": [],
   "source": [
    "# scrape for real data i.e reviews\n",
    "\n",
    "i = 1\n",
    "book = Workbook()\n",
    "sheet = book.active\n",
    "\n",
    "with open('all_review_links.txt',\"r\") as tp:\n",
    "    while(i<30):\n",
    "        str = tp.readline()\n",
    "        webpage_response = requests.get(str)\n",
    "        webpage = webpage_response.content\n",
    "        soup = BeautifulSoup(webpage, \"html.parser\")\n",
    "        \n",
    "        review_name_and_course = soup.find_all(\"div\", class_= \"reviewer_dec\")\n",
    "\n",
    "        for a in review_name_and_course:\n",
    "            sheet.cell(row=i, column=1).value = a.select(\"p\")[0].get_text()\n",
    "            sheet.cell(row=i, column=2).value = a.select(\"p\")[1].get_text()\n",
    "\n",
    "        review_links = soup.find_all(\"div\", class_= \"in_body\")\n",
    "\n",
    "        for a in review_links:\n",
    "            s = a.select(\"h4\")[0].get_text()\n",
    "\n",
    "            if s == reviews[0]:\n",
    "                sheet.cell(row=i, column=3).value = a.select(\"p\")[0].get_text()\n",
    "            if s == reviews[1]:\n",
    "                sheet.cell(row=i, column=4).value = a.select(\"p\")[0].get_text()\n",
    "            if s == reviews[2]:\n",
    "                sheet.cell(row=i, column=5).value = a.select(\"p\")[0].get_text()\n",
    "            if s == reviews[3]:\n",
    "                sheet.cell(row=i, column=6).value = a.select(\"p\")[0].get_text()\n",
    "            if s == reviews[4]:\n",
    "                sheet.cell(row=i, column=7).value = a.select(\"p\")[0].get_text()\n",
    "            if s == reviews[5]:\n",
    "                sheet.cell(row=i, column=8).value = a.select(\"p\")[0].get_text()\n",
    "            if s == reviews[6]:\n",
    "                sheet.cell(row=i, column=9).value = a.select(\"p\")[0].get_text()\n",
    "            if s == reviews[7]:\n",
    "                sheet.cell(row=i, column=10).value = a.select(\"p\")[0].get_text()\n",
    "            if s == reviews[8]:\n",
    "                sheet.cell(row=i, column=11).value = a.select(\"p\")[0].get_text()\n",
    "            if s == reviews[9]:\n",
    "                sheet.cell(row=i, column=12).value = a.select(\"p\")[0].get_text()\n",
    "            if s == reviews[10]:\n",
    "                sheet.cell(row=i, column=13).value = a.select(\"p\")[0].get_text()\n",
    "            if s == reviews[11]:\n",
    "                sheet.cell(row=i, column=14).value = a.select(\"p\")[0].get_text()\n",
    "            if s == reviews[12]:\n",
    "                sheet.cell(row=i, column=15).value = a.select(\"p\")[0].get_text()\n",
    "            if s == reviews[13]:\n",
    "                sheet.cell(row=i, column=16).value = a.select(\"p\")[0].get_text()\n",
    "\n",
    "        i = i+1\n",
    "        book.save('college_reviews.xlsx')"
   ]
  },
  {
   "cell_type": "code",
   "execution_count": null,
   "metadata": {},
   "outputs": [],
   "source": []
  }
 ]
}